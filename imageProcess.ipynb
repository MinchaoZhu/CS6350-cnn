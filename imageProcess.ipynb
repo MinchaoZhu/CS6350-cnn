{
 "metadata": {
  "language_info": {
   "codemirror_mode": {
    "name": "ipython",
    "version": 3
   },
   "file_extension": ".py",
   "mimetype": "text/x-python",
   "name": "python",
   "nbconvert_exporter": "python",
   "pygments_lexer": "ipython3",
   "version": "3.7.7-final"
  },
  "orig_nbformat": 2,
  "kernelspec": {
   "name": "python3",
   "display_name": "Python 3"
  }
 },
 "nbformat": 4,
 "nbformat_minor": 2,
 "cells": [
  {
   "cell_type": "code",
   "execution_count": 7,
   "metadata": {},
   "outputs": [
    {
     "output_type": "stream",
     "name": "stdout",
     "text": [
      "number of cats training images -  24\nnumber of dogs training images -  16\nnumber of cats testing images -  14\nnumber of dogs test images -  14\n"
     ]
    }
   ],
   "source": [
    "# libraries needed\n",
    "import os\n",
    "\n",
    "# note: if tensorflow is not install, run \"pip install --upgrade tensorflow\"\n",
    "from tensorflow.keras.preprocessing.image import ImageDataGenerator\n",
    "\n",
    "test_dir = \"./test_dataset/test_set\"\n",
    "train_dir = \"./test_dataset/training_set\"\n",
    "\n",
    "train_dir_cats = train_dir + \"/cats\"\n",
    "train_dir_dogs = train_dir + \"/dogs\"\n",
    "test_dir_cats = test_dir + \"/cats\"\n",
    "test_dir_dogs = test_dir + \"/dogs\"\n",
    "\n",
    "\n",
    "# test if reading file is successful\n",
    "# print(\"number of cats training images - \", len(os.listdir(train_dir_cats)))\n",
    "# print(\"number of dogs training images - \", len(os.listdir(train_dir_dogs)))\n",
    "# print(\"number of cats testing images - \", len(os.listdir(test_dir_dogs)))\n",
    "# print(\"number of dogs test images - \", len(os.listdir(test_dir_dogs)))"
   ]
  },
  {
   "cell_type": "code",
   "execution_count": 9,
   "metadata": {},
   "outputs": [
    {
     "output_type": "stream",
     "name": "stdout",
     "text": [
      "Found 40 images belonging to 2 classes.\n<tensorflow.python.keras.preprocessing.image.DirectoryIterator object at 0x7fb9e4874e50>\nFound 28 images belonging to 2 classes.\n"
     ]
    }
   ],
   "source": [
    "train_image_generator = ImageDataGenerator()\n",
    "test_image_generator = ImageDataGenerator()\n",
    "\n",
    "train_data_gen = train_image_generator.flow_from_directory(\n",
    "    directory= train_dir,\n",
    "    target_size = (256,256),\n",
    "    batch_size = 32,\n",
    "    class_mode = \"binary\"\n",
    ")\n",
    "print(train_data_gen)\n",
    "\n",
    "test_data_gen = test_image_generator.flow_from_directory(\n",
    "    directory= test_dir,\n",
    "    target_size = (256,256),\n",
    "    batch_size = 32,\n",
    "    class_mode = \"binary\"\n",
    ")\n"
   ]
  },
  {
   "cell_type": "code",
   "execution_count": null,
   "metadata": {},
   "outputs": [],
   "source": []
  }
 ]
}