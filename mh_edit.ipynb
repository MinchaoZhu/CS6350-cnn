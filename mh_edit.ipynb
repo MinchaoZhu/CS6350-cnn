{
 "cells": [
  {
   "cell_type": "code",
   "execution_count": 47,
   "metadata": {},
   "outputs": [],
   "source": []
  },
  {
   "cell_type": "code",
   "execution_count": 48,
   "metadata": {},
   "outputs": [],
   "source": []
  },
  {
   "cell_type": "code",
   "execution_count": 78,
   "metadata": {},
   "outputs": [],
   "source": []
  },
  {
   "cell_type": "code",
   "execution_count": 79,
   "metadata": {},
   "outputs": [],
   "source": []
  },
  {
   "cell_type": "code",
   "execution_count": 80,
   "metadata": {},
   "outputs": [],
   "source": []
  },
  {
   "cell_type": "code",
   "execution_count": 104,
   "metadata": {},
   "outputs": [],
   "source": [
    "def smsum(etmp,ax, kd):\n",
    "    if ax == 1:\n",
    "        sumx = np.sum(etmp, axis=1, keepdims=True)\n",
    "        return sumx\n",
    "    else:\n",
    "        sumx = np.sum(etmp)\n",
    "        return sumx\n",
    "def dreshape(d,iftrue):\n",
    "    if iftrue is True:\n",
    "        dre = d.reshape(d.shape[0],1)\n",
    "        return dre\n",
    "    else:\n",
    "        return d\n",
    "def randomweights(in_num, out_num, n):\n",
    "    wt =(np.random.rand(in_num, out_num)*(100-n))/100\n",
    "    return wt\n",
    "def zerobias(out_num, p_zero):\n",
    "    rbias = np.zeros((out_num, p_zero))\n",
    "    return rbias\n",
    "def dpro(a1,a2,t):\n",
    "    re = a1.dot(a2)\n",
    "    if t>1:\n",
    "        re =re.dot(re.T)\n",
    "    return re    \n",
    "class FullyConnectedLayer:\n",
    "\n",
    "    def __init__(self, in_num, out_num, learn_rate):\n",
    "        if in_num < 0 or out_num < 0:\n",
    "            print(\"invalid values for in_num_inputs and out_num\")\n",
    "            return\n",
    "        self.weights = randomweights(in_num, out_num,99)\n",
    "        self.bias = zerobias(out_num,1)\n",
    "        if learn_rate == 0:\n",
    "            print(\"invalid values for learning_rate\")\n",
    "            return\n",
    "        self.lr = learn_rate\n",
    "\n",
    "    def forward(self, inputs):\n",
    "        self.inputs = inputs\n",
    "        dotting = dpro(self.inputs, self.weights,1)\n",
    "        return dotting + self.bias.T\n",
    "\n",
    "    def backward(self, dy):\n",
    "        if dy.shape[0] == self.inputs.shape[0]:\n",
    "            dy = dy.T\n",
    "        wwd = dpro(dy,self.inputs,1)\n",
    "        bbd = smsum(dy, 1, True)\n",
    "        xxd = dpro(dy.T, self.weights.T,1)\n",
    "\n",
    "        self.weights = self.weights -self.lr * wwd.T\n",
    "        self.bias = self.bias-self.lr * bbd\n",
    "\n",
    "        return xxs"
   ]
  },
  {
   "cell_type": "code",
   "execution_count": 105,
   "metadata": {},
   "outputs": [],
   "source": [
    "class Softmax:\n",
    "    def forward(self, inputs):\n",
    "        etmp = np.exp(inputs, dtype=np.float)\n",
    "        sumx = smsum(etmp,-1,True)\n",
    "        self.out = etmp/sumx\n",
    "        return self.out\n",
    "    def backward(self, d):\n",
    "        reshape = dreshape(d,True)\n",
    "        return self.out.T - reshape\n"
   ]
  },
  {
   "cell_type": "code",
   "execution_count": 106,
   "metadata": {},
   "outputs": [],
   "source": []
  },
  {
   "cell_type": "code",
   "execution_count": null,
   "metadata": {},
   "outputs": [],
   "source": []
  },
  {
   "cell_type": "code",
   "execution_count": 107,
   "metadata": {},
   "outputs": [
    {
     "name": "stdout",
     "output_type": "stream",
     "text": [
      "Testing accuracy:0.665\n"
     ]
    }
   ],
   "source": []
  },
  {
   "cell_type": "code",
   "execution_count": null,
   "metadata": {},
   "outputs": [],
   "source": []
  },
  {
   "cell_type": "code",
   "execution_count": 94,
   "metadata": {},
   "outputs": [
    {
     "data": {
      "text/plain": [
       "0.335"
      ]
     },
     "execution_count": 94,
     "metadata": {},
     "output_type": "execute_result"
    }
   ],
   "source": []
  },
  {
   "cell_type": "code",
   "execution_count": null,
   "metadata": {},
   "outputs": [],
   "source": []
  }
 ],
 "metadata": {
  "kernelspec": {
   "display_name": "Python 3",
   "language": "python",
   "name": "python3"
  },
  "language_info": {
   "codemirror_mode": {
    "name": "ipython",
    "version": 3
   },
   "file_extension": ".py",
   "mimetype": "text/x-python",
   "name": "python",
   "nbconvert_exporter": "python",
   "pygments_lexer": "ipython3",
   "version": "3.8.3"
  }
 },
 "nbformat": 4,
 "nbformat_minor": 2
}
